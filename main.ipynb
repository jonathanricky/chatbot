{
 "cells": [
  {
   "cell_type": "code",
   "execution_count": 73,
   "metadata": {},
   "outputs": [
    {
     "name": "stdout",
     "output_type": "stream",
     "text": [
      "Loaded 584 items from JSON.\n",
      "Extracted 555 texts and 194 images.\n",
      "Computed embeddings shape: (555, 384)\n"
     ]
    },
    {
     "name": "stderr",
     "output_type": "stream",
     "text": [
      "Device set to use cpu\n"
     ]
    },
    {
     "name": "stdout",
     "output_type": "stream",
     "text": [
      "Models loaded successfully.\n",
      "FAISS index size: 555\n",
      "\n"
     ]
    }
   ],
   "source": [
    "import json\n",
    "import os\n",
    "import faiss\n",
    "from sentence_transformers import SentenceTransformer, CrossEncoder\n",
    "from transformers import pipeline\n",
    "\n",
    "CONTENT_LIST_PATHS = [\n",
    "    \"C:/Coding/VSCode/chatbot/output/abus_elektro-seilzug_programm/auto/abus_elektro-seilzug_programm_content_list.json\",\n",
    "    \"C:/Coding/VSCode/chatbot/output/abus_hb-system_programm/auto/abus_hb-system_programm_content_list.json\",\n",
    "    \"C:/Coding/VSCode/chatbot/output/abus_laufkran_programm/auto/abus_laufkran_programm_content_list.json\"\n",
    "]\n",
    "IMAGES_BASE_DIRS = [\n",
    "    \"C:/Coding/VSCode/chatbot/output/abus_elektro-seilzug_programm/auto/images\",\n",
    "    \"C:/Coding/VSCode/chatbot/output/abus_hb-system_programm/auto/images\",\n",
    "    \"C:/Coding/VSCode/chatbot/output/abus_laufkran_programm/auto/images\"\n",
    "]\n",
    "\n",
    "# Function to load JSON content from the given paths\n",
    "def load_content(paths):\n",
    "    \"\"\"Load JSON content from the given paths.\"\"\"\n",
    "    content = []\n",
    "    for path in paths:\n",
    "        try:\n",
    "            with open(path, \"r\", encoding=\"utf-8\") as file:\n",
    "                content.extend(json.load(file))\n",
    "        except Exception as e:\n",
    "            print(f\"Error loading {path}: {e}\")\n",
    "    return content\n",
    "\n",
    "# Function to extract texts, page indexes, and image paths from the content list\n",
    "def extract_content(content_list, image_dirs):\n",
    "    \"\"\"Extract texts, page indexes, and image paths from the content list.\"\"\"\n",
    "    texts, page_indexes, image_paths = [], [], []\n",
    "    image_dir_mapping = {os.path.basename(dir): dir for dir in image_dirs}\n",
    "\n",
    "    for item in content_list:\n",
    "        if item[\"type\"] == \"text\" and item[\"text\"].strip():\n",
    "            texts.append(item[\"text\"].strip())\n",
    "            image_paths.append(None)\n",
    "        elif item[\"type\"] == \"image\":\n",
    "            caption = \" \".join(item.get(\"img_caption\", [])).strip() or \"No caption available\"\n",
    "            texts.append(caption)\n",
    "            img_dir = os.path.dirname(item[\"img_path\"])\n",
    "            base_dir = image_dir_mapping.get(os.path.basename(img_dir), image_dirs[0])\n",
    "            image_paths.append(os.path.normpath(os.path.join(base_dir, item[\"img_path\"])))\n",
    "    return texts, image_paths\n",
    "\n",
    "# Function to initialize and return a FAISS index with the given embeddings\n",
    "def initialize_faiss_index(embeddings):\n",
    "    \"\"\"Initialize and return a FAISS index with the given embeddings.\"\"\"\n",
    "    embedding_dim = embeddings.shape[1]\n",
    "    index = faiss.IndexFlatIP(embedding_dim)\n",
    "    index.add(embeddings)\n",
    "    return index\n",
    "\n",
    "# Function to search for the query and return an answer or relevant context\n",
    "def search_and_answer(query, k=5, confidence_threshold=0.01):\n",
    "    \"\"\"Searches for relevant information based on the provided query, retrieves and ranks the top results,\n",
    "    and generates an answer using a question-answering (QA) model.\"\"\"\n",
    "    print(\"-\" * 50)\n",
    "    print(f\"\\nSearching for: {query}, retrieving top {k * 2} results\")\n",
    "    \n",
    "    # Encode the query and search the FAISS index\n",
    "    query_embedding = embedding_model.encode([query], convert_to_numpy=True, normalize_embeddings=True)\n",
    "    distances, indices = index.search(query_embedding, k * 2)\n",
    "    \n",
    "    # Retrieve texts\n",
    "    retrieved_texts = [texts[idx] for idx in indices[0] if idx < len(texts)]\n",
    "    \n",
    "    # Rank texts using the reranker\n",
    "    pairs = [[query, text] for text in retrieved_texts]\n",
    "    scores = reranker.predict(pairs)\n",
    "    sorted_texts = [text for _, text in sorted(zip(scores, retrieved_texts), reverse=True)[:k]]\n",
    "    context = \" \".join(sorted_texts)\n",
    "\n",
    "    # Print retrieved and ranked texts for debugging\n",
    "    print(\"\\nRetrieved texts:\")\n",
    "    for text in retrieved_texts:\n",
    "        print(f\"- {text}\")\n",
    "    print(\"\\nRanked texts:\")\n",
    "    for text in sorted_texts:\n",
    "        print(f\"- {text}\")\n",
    "    print(f\"\\nUsing context: {context}\\n\")\n",
    "    print(\"-\" * 50)\n",
    "    print(f\"\\nQuery: {query}\")\n",
    "\n",
    "    # Get the answer from the QA model\n",
    "    result = qa_model(question=query, context=context)\n",
    "    if result.get('score', 0) < confidence_threshold:\n",
    "        print(\"Model is unsure about the answer. Returning context instead.\")\n",
    "        return context\n",
    "    else:\n",
    "        print(f\"Answer: {result['answer']}\")\n",
    "        return result['answer']\n",
    "    \n",
    "# Load content\n",
    "content_list = load_content(CONTENT_LIST_PATHS)\n",
    "print(f\"Loaded {len(content_list)} items from JSON.\")\n",
    "\n",
    "# Extract texts and image paths\n",
    "texts, image_paths = extract_content(content_list, IMAGES_BASE_DIRS)\n",
    "print(f\"Extracted {len(texts)} texts and {len([p for p in image_paths if p])} images.\")\n",
    "\n",
    "# Initialize models\n",
    "embedding_model = SentenceTransformer(\"sentence-transformers/all-MiniLM-L6-v2\")\n",
    "embeddings = embedding_model.encode(texts, convert_to_numpy=True, normalize_embeddings=True)\n",
    "print(f\"Computed embeddings shape: {embeddings.shape}\")\n",
    "\n",
    "reranker = CrossEncoder(\"cross-encoder/ms-marco-MiniLM-L-6-v2\")\n",
    "qa_model = pipeline(\"question-answering\", model=\"deepset/gelectra-base-germanquad\")\n",
    "print(\"Models loaded successfully.\")\n",
    "\n",
    "# Initialize FAISS index\n",
    "index = initialize_faiss_index(embeddings)\n",
    "print(f\"FAISS index size: {index.ntotal}\\n\")"
   ]
  },
  {
   "cell_type": "code",
   "execution_count": 74,
   "metadata": {},
   "outputs": [
    {
     "name": "stdout",
     "output_type": "stream",
     "text": [
      "--------------------------------------------------\n",
      "\n",
      "Searching for: Was bieten die Elektromagnet-Zweischeibenbremse?, retrieving top 10 results\n",
      "\n",
      "Retrieved texts:\n",
      "- Elektromagnet-Zweischeibenbremsen gewährleisten eine Bremsautomatik bei Netzausfall. Umweltfreundliche Bremsbeläge mit Standzeiten von ca. 1 Mio. Schaltungen sorgen für große Wartungsintervalle.\n",
      "- Die Elektromagnet-Zweischeibenbremse bietet eine Bremsautomatik bei Netzausfall. Asbestfreie Bremsbeläge mit Standzeiten von ca. 1 Mio. Schaltungen verlängern die Wartungsintervalle.\n",
      "- ABUS ELEKTRO-SEILZÜGE GM FÜR ZWEITRÄGERKRANE\n",
      "- Elektro-Kettenzüge und Hochleistungskomponenten\n",
      "- Elektro-Seilzüge\n",
      "- ABUS ELEKTRO-SEILZÜGE GM FÜR EINTRÄGERKRANE\n",
      "- Bauart Z – Zweischienenlaufkatze mit Zwillingshubwerk\n",
      "- Elektrik\n",
      "- Bauart ZA – Zweischienenlaufkatze mit Zwillingshubwerk in abgesenkter Bauart\n",
      "- Günstige Baumaße und Gewichte der Elektro-Seilzüge haben bei den ABUS Entwicklungsingenieuren hohe Priorität. Deshalb werden hochfeste, verzinkte Drahtseile mit verdichteten Litzen und speziellem Gefügeaufbau verwendet. Die Vorzüge dieser Seile führen in Verbindung mit verschleißfesten Seiltrommeln und Seilrollen zu kleineren Abmessungen des Seiltriebs ohne Einbußen an Sicherheit und Lebensdauer.\n",
      "\n",
      "Ranked texts:\n",
      "- Die Elektromagnet-Zweischeibenbremse bietet eine Bremsautomatik bei Netzausfall. Asbestfreie Bremsbeläge mit Standzeiten von ca. 1 Mio. Schaltungen verlängern die Wartungsintervalle.\n",
      "- Elektromagnet-Zweischeibenbremsen gewährleisten eine Bremsautomatik bei Netzausfall. Umweltfreundliche Bremsbeläge mit Standzeiten von ca. 1 Mio. Schaltungen sorgen für große Wartungsintervalle.\n",
      "- Günstige Baumaße und Gewichte der Elektro-Seilzüge haben bei den ABUS Entwicklungsingenieuren hohe Priorität. Deshalb werden hochfeste, verzinkte Drahtseile mit verdichteten Litzen und speziellem Gefügeaufbau verwendet. Die Vorzüge dieser Seile führen in Verbindung mit verschleißfesten Seiltrommeln und Seilrollen zu kleineren Abmessungen des Seiltriebs ohne Einbußen an Sicherheit und Lebensdauer.\n",
      "- Elektrik\n",
      "- Elektro-Kettenzüge und Hochleistungskomponenten\n",
      "\n",
      "Using context: Die Elektromagnet-Zweischeibenbremse bietet eine Bremsautomatik bei Netzausfall. Asbestfreie Bremsbeläge mit Standzeiten von ca. 1 Mio. Schaltungen verlängern die Wartungsintervalle. Elektromagnet-Zweischeibenbremsen gewährleisten eine Bremsautomatik bei Netzausfall. Umweltfreundliche Bremsbeläge mit Standzeiten von ca. 1 Mio. Schaltungen sorgen für große Wartungsintervalle. Günstige Baumaße und Gewichte der Elektro-Seilzüge haben bei den ABUS Entwicklungsingenieuren hohe Priorität. Deshalb werden hochfeste, verzinkte Drahtseile mit verdichteten Litzen und speziellem Gefügeaufbau verwendet. Die Vorzüge dieser Seile führen in Verbindung mit verschleißfesten Seiltrommeln und Seilrollen zu kleineren Abmessungen des Seiltriebs ohne Einbußen an Sicherheit und Lebensdauer. Elektrik Elektro-Kettenzüge und Hochleistungskomponenten\n",
      "\n",
      "--------------------------------------------------\n",
      "\n",
      "Query: Was bieten die Elektromagnet-Zweischeibenbremse?\n",
      "Answer: eine Bremsautomatik bei Netzausfall\n"
     ]
    }
   ],
   "source": [
    "# Example usage\n",
    "query = \"Was bieten die Elektromagnet-Zweischeibenbremse?\"\n",
    "result = search_and_answer(query)"
   ]
  },
  {
   "cell_type": "code",
   "execution_count": 75,
   "metadata": {},
   "outputs": [
    {
     "name": "stdout",
     "output_type": "stream",
     "text": [
      "--------------------------------------------------\n",
      "\n",
      "Searching for: Was ist die günstige Alternative zu Portalen?, retrieving top 10 results\n",
      "\n",
      "Retrieved texts:\n",
      "- Kragarmstützen sind die günstige Alternative zu Portalen. Sie werden in individuellen Bauhöhen gefertigt und lassen sich mit wenig Montageaufwand zügig aufstellen. Es gibt sie mit einseitiger und beidseitiger (T-Stütze) Auskragung für die Befestigung der Kranbahnen.\n",
      "- Portalkonstruktionen\n",
      "- Die von ABUS konstruierte verfahrbare Portalschweißanlage setzt zur Verschweißung der Stegbleche mit Ober- und Untergurt und der Katzschienen auf der Trägeroberseite bis zu acht Schweißnähte gleichzeitig. Die Hochleistungsbrenner werden per SPS automatisch gesteuert.\n",
      "- Individuell angepasste Portal­konstruktionen bieten Lösungen, wenn z.B. die Deckenkonstruktion nicht zur Befestigung der Hängebahn-Anlage geeignet ist. Es gibt sie freistehend oder auch mit seitlichen Anbindungen an die Hallen­konstruktion.\n",
      "- Einschienenlaufkatze in Kompaktbauweise mit sehr günstigen Baumaßen und mit zwei Direktantrieben für das Fahrwerk. Die Katzfahrwerke sind auf verschiedene Flanschbreiten voreingestellt. Preisgünstige Lösung, häufigste Bauart im Tragfähigkeitsbereich 1 t – 16 t.\n",
      "- Weitere mögliche Optionen sind auf unserer Website zu finden. Oder sprechen Sie uns einfach an.\n",
      "- Damit die Arbeitsbereiche unter den Hängebahn-Anlagen gut zugänglich bleiben, werden ggf. erforderliche Versteifungen möglichst hoch angebracht und die Stützabstände zwischen den Portalen dahin­gehend optimiert.\n",
      "- Bauweise des Hubwerks\n",
      "- VORTEILE, MIT DENEN SIE AUS DEM VOLLEN SCHÖPFEN\n",
      "- Vor der Weiterverarbeitung werden die Stegbleche mit aufgeschweißten Beulsteifen stabilisiert. Schottbleche geben der Gesamtkonstruktion eine optimale Formstabilität. Nach dem Aufbau auf der Kasten­trägerbahn ist der Kastenträger für die Portalschweißanlage vorbereitet.\n",
      "\n",
      "Ranked texts:\n",
      "- Kragarmstützen sind die günstige Alternative zu Portalen. Sie werden in individuellen Bauhöhen gefertigt und lassen sich mit wenig Montageaufwand zügig aufstellen. Es gibt sie mit einseitiger und beidseitiger (T-Stütze) Auskragung für die Befestigung der Kranbahnen.\n",
      "- Damit die Arbeitsbereiche unter den Hängebahn-Anlagen gut zugänglich bleiben, werden ggf. erforderliche Versteifungen möglichst hoch angebracht und die Stützabstände zwischen den Portalen dahin­gehend optimiert.\n",
      "- Die von ABUS konstruierte verfahrbare Portalschweißanlage setzt zur Verschweißung der Stegbleche mit Ober- und Untergurt und der Katzschienen auf der Trägeroberseite bis zu acht Schweißnähte gleichzeitig. Die Hochleistungsbrenner werden per SPS automatisch gesteuert.\n",
      "- Einschienenlaufkatze in Kompaktbauweise mit sehr günstigen Baumaßen und mit zwei Direktantrieben für das Fahrwerk. Die Katzfahrwerke sind auf verschiedene Flanschbreiten voreingestellt. Preisgünstige Lösung, häufigste Bauart im Tragfähigkeitsbereich 1 t – 16 t.\n",
      "- Individuell angepasste Portal­konstruktionen bieten Lösungen, wenn z.B. die Deckenkonstruktion nicht zur Befestigung der Hängebahn-Anlage geeignet ist. Es gibt sie freistehend oder auch mit seitlichen Anbindungen an die Hallen­konstruktion.\n",
      "\n",
      "Using context: Kragarmstützen sind die günstige Alternative zu Portalen. Sie werden in individuellen Bauhöhen gefertigt und lassen sich mit wenig Montageaufwand zügig aufstellen. Es gibt sie mit einseitiger und beidseitiger (T-Stütze) Auskragung für die Befestigung der Kranbahnen. Damit die Arbeitsbereiche unter den Hängebahn-Anlagen gut zugänglich bleiben, werden ggf. erforderliche Versteifungen möglichst hoch angebracht und die Stützabstände zwischen den Portalen dahin­gehend optimiert. Die von ABUS konstruierte verfahrbare Portalschweißanlage setzt zur Verschweißung der Stegbleche mit Ober- und Untergurt und der Katzschienen auf der Trägeroberseite bis zu acht Schweißnähte gleichzeitig. Die Hochleistungsbrenner werden per SPS automatisch gesteuert. Einschienenlaufkatze in Kompaktbauweise mit sehr günstigen Baumaßen und mit zwei Direktantrieben für das Fahrwerk. Die Katzfahrwerke sind auf verschiedene Flanschbreiten voreingestellt. Preisgünstige Lösung, häufigste Bauart im Tragfähigkeitsbereich 1 t – 16 t. Individuell angepasste Portal­konstruktionen bieten Lösungen, wenn z.B. die Deckenkonstruktion nicht zur Befestigung der Hängebahn-Anlage geeignet ist. Es gibt sie freistehend oder auch mit seitlichen Anbindungen an die Hallen­konstruktion.\n",
      "\n",
      "--------------------------------------------------\n",
      "\n",
      "Query: Was ist die günstige Alternative zu Portalen?\n",
      "Answer: Kragarmstützen\n"
     ]
    }
   ],
   "source": [
    "# Example usage\n",
    "query = \"Was ist die günstige Alternative zu Portalen?\"\n",
    "result = search_and_answer(query)"
   ]
  },
  {
   "cell_type": "code",
   "execution_count": 76,
   "metadata": {},
   "outputs": [
    {
     "name": "stdout",
     "output_type": "stream",
     "text": [
      "--------------------------------------------------\n",
      "\n",
      "Searching for: Wie erreicht man den ABUS Service außerhalb der Werktagszeiten?, retrieving top 10 results\n",
      "\n",
      "Retrieved texts:\n",
      "- ABUS QUALITÄT ERKENNT MAN – AUCH AM SERVICE.\n",
      "- Mit DirektService geht ABUS als innovativer Partner im Bereich Hallenkransysteme neue Wege. Denn dieses Servicekonzept bietet Ihnen eine Vielzahl neuer Serviceideen und professioneller Serviceleistungen, die konsequent auf die Kranpraxis abgestimmt sind. Mit dem Kauf eines ABUS Laufkrans stehen Ihnen sämtliche Serviceangebote zur Verfügung: zum Beispiel Revisionen, Nachrüstungen mit ABUS LIS-System oder ABUS Funksteuerung, Schulungen und vieles mehr. Wenn Sie mehr über den ABUS DirektService wissen wollen – wir sind mit weiteren Informationen rund um ABUS jederzeit auch persönlich für Sie da.\n",
      "- Ihre Maschinen sind rund um die Uhr im Einsatz? Unser Service ist es auch.\n",
      "- 17.30 Uhr und danach sowie an Wochenenden und Feiertagen über einen mobilen Bereitschaftsdienst. So sind wir im Fall des Falles in jedem Fall zu jeder Tages- und Nachtzeit erreichbar, um Ihnen mit den umfassenden Leistungen des ABUS 24-Stunden-Service die beruhigende Sicherheit optimaler Verfügbarkeit zu geben. Rund um die Uhr. Darüber hinaus liefern wir ABUS Ersatzteile von unserem ABUS ServiceCenter aus noch schneller dorthin, wo sie benötigt werden. Denn hier halten wir alle erforderlichen ABUS Kranteile und Komponenten speziell für den Servicebereich bereit und stellen sie über eine leistungsstarke Logistik kurzfristig an jedem Einsatzort zur Verfügung. Die verkehrsgünstige Lage macht den ABUS Service noch leistungsfähiger und Stillstandzeiten in Zukunft noch kürzer.\n",
      "- Komplettlösungen aus dem Hause ABUS\n",
      "- Komplettlösungen aus dem Hause ABUS\n",
      "- Komplettlösungen aus dem Hause ABUS\n",
      "- ABUS Steuereinheit LIS – das intelligente Herzstück der ABUS Seilzüge\n",
      "- ABUS Einträger-Halbportalkrane EHPK\n",
      "- DIE GRUNDAUSSTATTUNG DER ABUS LAUFKRANE: EIN BEISPIELHAFTER STANDARD.\n",
      "\n",
      "Ranked texts:\n",
      "- Mit DirektService geht ABUS als innovativer Partner im Bereich Hallenkransysteme neue Wege. Denn dieses Servicekonzept bietet Ihnen eine Vielzahl neuer Serviceideen und professioneller Serviceleistungen, die konsequent auf die Kranpraxis abgestimmt sind. Mit dem Kauf eines ABUS Laufkrans stehen Ihnen sämtliche Serviceangebote zur Verfügung: zum Beispiel Revisionen, Nachrüstungen mit ABUS LIS-System oder ABUS Funksteuerung, Schulungen und vieles mehr. Wenn Sie mehr über den ABUS DirektService wissen wollen – wir sind mit weiteren Informationen rund um ABUS jederzeit auch persönlich für Sie da.\n",
      "- 17.30 Uhr und danach sowie an Wochenenden und Feiertagen über einen mobilen Bereitschaftsdienst. So sind wir im Fall des Falles in jedem Fall zu jeder Tages- und Nachtzeit erreichbar, um Ihnen mit den umfassenden Leistungen des ABUS 24-Stunden-Service die beruhigende Sicherheit optimaler Verfügbarkeit zu geben. Rund um die Uhr. Darüber hinaus liefern wir ABUS Ersatzteile von unserem ABUS ServiceCenter aus noch schneller dorthin, wo sie benötigt werden. Denn hier halten wir alle erforderlichen ABUS Kranteile und Komponenten speziell für den Servicebereich bereit und stellen sie über eine leistungsstarke Logistik kurzfristig an jedem Einsatzort zur Verfügung. Die verkehrsgünstige Lage macht den ABUS Service noch leistungsfähiger und Stillstandzeiten in Zukunft noch kürzer.\n",
      "- ABUS QUALITÄT ERKENNT MAN – AUCH AM SERVICE.\n",
      "- ABUS Steuereinheit LIS – das intelligente Herzstück der ABUS Seilzüge\n",
      "- ABUS Einträger-Halbportalkrane EHPK\n",
      "\n",
      "Using context: Mit DirektService geht ABUS als innovativer Partner im Bereich Hallenkransysteme neue Wege. Denn dieses Servicekonzept bietet Ihnen eine Vielzahl neuer Serviceideen und professioneller Serviceleistungen, die konsequent auf die Kranpraxis abgestimmt sind. Mit dem Kauf eines ABUS Laufkrans stehen Ihnen sämtliche Serviceangebote zur Verfügung: zum Beispiel Revisionen, Nachrüstungen mit ABUS LIS-System oder ABUS Funksteuerung, Schulungen und vieles mehr. Wenn Sie mehr über den ABUS DirektService wissen wollen – wir sind mit weiteren Informationen rund um ABUS jederzeit auch persönlich für Sie da. 17.30 Uhr und danach sowie an Wochenenden und Feiertagen über einen mobilen Bereitschaftsdienst. So sind wir im Fall des Falles in jedem Fall zu jeder Tages- und Nachtzeit erreichbar, um Ihnen mit den umfassenden Leistungen des ABUS 24-Stunden-Service die beruhigende Sicherheit optimaler Verfügbarkeit zu geben. Rund um die Uhr. Darüber hinaus liefern wir ABUS Ersatzteile von unserem ABUS ServiceCenter aus noch schneller dorthin, wo sie benötigt werden. Denn hier halten wir alle erforderlichen ABUS Kranteile und Komponenten speziell für den Servicebereich bereit und stellen sie über eine leistungsstarke Logistik kurzfristig an jedem Einsatzort zur Verfügung. Die verkehrsgünstige Lage macht den ABUS Service noch leistungsfähiger und Stillstandzeiten in Zukunft noch kürzer. ABUS QUALITÄT ERKENNT MAN – AUCH AM SERVICE. ABUS Steuereinheit LIS – das intelligente Herzstück der ABUS Seilzüge ABUS Einträger-Halbportalkrane EHPK\n",
      "\n",
      "--------------------------------------------------\n",
      "\n",
      "Query: Wie erreicht man den ABUS Service außerhalb der Werktagszeiten?\n",
      "Answer: über einen mobilen Bereitschaftsdienst\n"
     ]
    }
   ],
   "source": [
    "# Example usage\n",
    "query = \"Wie erreicht man den ABUS Service außerhalb der Werktagszeiten?\"\n",
    "result = search_and_answer(query)"
   ]
  },
  {
   "cell_type": "code",
   "execution_count": 77,
   "metadata": {},
   "outputs": [
    {
     "name": "stdout",
     "output_type": "stream",
     "text": [
      "--------------------------------------------------\n",
      "\n",
      "Searching for: Welche Vorteile bietet das ABUS Pendeldämpfungssystem?, retrieving top 10 results\n",
      "\n",
      "Retrieved texts:\n",
      "- Das ABUS Hängebahnsystem\n",
      "- DIE BAUTEILE DES ABUS HÄNGEBAHNSYSTEMS\n",
      "- Komplettlösungen aus dem Hause ABUS\n",
      "- Komplettlösungen aus dem Hause ABUS\n",
      "- Komplettlösungen aus dem Hause ABUS\n",
      "- ABUS Steuereinheit LIS – das intelligente Herzstück der ABUS Seilzüge\n",
      "- Die ABUS Zusammenfahrsicherung\n",
      "- Pendelreduzierte Bewegungsabläufe bei zweistufigem Betrieb\n",
      "- Pendelreduzierte Bewegungsabläufe bei zweistufigem Betrieb\n",
      "- Die ABUS Pendeldämpfung erhöht die Sicherheit und den Komfort beim Transport von Gütern in sensiblen Bereichen. Die Pendeldämpfung basiert auf mathematischen Berechnungen. Dabei werden die Fahrgeschwindigkeiten, Beschleunigung und Verzögerung von Kran und Katze, die Hakenposition und die Länge des Lastaufnahmemittels berücksichtigt. Auch Personen, die nur selten Krane bedienen, können mit Hilfe der Pendeldämpfung Lasten sicher transportieren.\n",
      "\n",
      "Ranked texts:\n",
      "- Die ABUS Pendeldämpfung erhöht die Sicherheit und den Komfort beim Transport von Gütern in sensiblen Bereichen. Die Pendeldämpfung basiert auf mathematischen Berechnungen. Dabei werden die Fahrgeschwindigkeiten, Beschleunigung und Verzögerung von Kran und Katze, die Hakenposition und die Länge des Lastaufnahmemittels berücksichtigt. Auch Personen, die nur selten Krane bedienen, können mit Hilfe der Pendeldämpfung Lasten sicher transportieren.\n",
      "- Das ABUS Hängebahnsystem\n",
      "- DIE BAUTEILE DES ABUS HÄNGEBAHNSYSTEMS\n",
      "- ABUS Steuereinheit LIS – das intelligente Herzstück der ABUS Seilzüge\n",
      "- Die ABUS Zusammenfahrsicherung\n",
      "\n",
      "Using context: Die ABUS Pendeldämpfung erhöht die Sicherheit und den Komfort beim Transport von Gütern in sensiblen Bereichen. Die Pendeldämpfung basiert auf mathematischen Berechnungen. Dabei werden die Fahrgeschwindigkeiten, Beschleunigung und Verzögerung von Kran und Katze, die Hakenposition und die Länge des Lastaufnahmemittels berücksichtigt. Auch Personen, die nur selten Krane bedienen, können mit Hilfe der Pendeldämpfung Lasten sicher transportieren. Das ABUS Hängebahnsystem DIE BAUTEILE DES ABUS HÄNGEBAHNSYSTEMS ABUS Steuereinheit LIS – das intelligente Herzstück der ABUS Seilzüge Die ABUS Zusammenfahrsicherung\n",
      "\n",
      "--------------------------------------------------\n",
      "\n",
      "Query: Welche Vorteile bietet das ABUS Pendeldämpfungssystem?\n",
      "Answer: erhöht die Sicherheit und den Komfort beim Transport von Gütern in sensiblen Bereichen\n"
     ]
    }
   ],
   "source": [
    "# Example usage\n",
    "query = \"Welche Vorteile bietet das ABUS Pendeldämpfungssystem?\"\n",
    "result = search_and_answer(query)"
   ]
  },
  {
   "cell_type": "code",
   "execution_count": 78,
   "metadata": {},
   "outputs": [
    {
     "name": "stdout",
     "output_type": "stream",
     "text": [
      "--------------------------------------------------\n",
      "\n",
      "Searching for: Kann ich die KranOS mit dem Tablet nutzen?, retrieving top 10 results\n",
      "\n",
      "Retrieved texts:\n",
      "- Betriebsdaten, Einstellungen, Service-Informationen. Mittels der modernen Oberfläche KranOS behalten Sie den Kran im Auge. Kabellos von jedem Laptop oder Tablet mit Browser. Und die jährlich wiederkehrende Prüfung geht noch ein bisschen flotter.\n",
      "- Betriebsdaten, Einstellungen, Service-Informationen. Mittels der modernen Oberfläche KranOS behalten Sie den Kran im Auge. Kabellos von jedem Laptop oder Tablet mit Browser. Und die jährlich wiederkehrende Prüfung geht noch ein bisschen flotter.\n",
      "- Kragarmstützen\n",
      "- ABUS KRANSYSTEME GESAMTKONZEPTE BIS INS DETAIL\n",
      "- Und sie erleich­tern die Arbeit: Das Verfahren von Kranen und Katzen ist im Handbetrieb mit wenig Kraftaufwand möglich.\n",
      "- Spezielle Werkzeuge sind zur Montage nicht erfor­ derlich.\n",
      "- ABUS ELEKTRO-SEILZÜGE GM FÜR EINTRÄGERKRANE\n",
      "- Ihre Maschinen sind rund um die Uhr im Einsatz? Unser Service ist es auch.\n",
      "- \u0007Die ABUS typischen, verwechslungsfreien Steckverbin­ dungen machen die Elektroinstallation schnell und sicher.\n",
      "- Zweischienenlaufkatzen der Bauart D auf Zweiträger­lauf­ kranen.\n",
      "\n",
      "Ranked texts:\n",
      "- Betriebsdaten, Einstellungen, Service-Informationen. Mittels der modernen Oberfläche KranOS behalten Sie den Kran im Auge. Kabellos von jedem Laptop oder Tablet mit Browser. Und die jährlich wiederkehrende Prüfung geht noch ein bisschen flotter.\n",
      "- Betriebsdaten, Einstellungen, Service-Informationen. Mittels der modernen Oberfläche KranOS behalten Sie den Kran im Auge. Kabellos von jedem Laptop oder Tablet mit Browser. Und die jährlich wiederkehrende Prüfung geht noch ein bisschen flotter.\n",
      "- Und sie erleich­tern die Arbeit: Das Verfahren von Kranen und Katzen ist im Handbetrieb mit wenig Kraftaufwand möglich.\n",
      "- Zweischienenlaufkatzen der Bauart D auf Zweiträger­lauf­ kranen.\n",
      "- Kragarmstützen\n",
      "\n",
      "Using context: Betriebsdaten, Einstellungen, Service-Informationen. Mittels der modernen Oberfläche KranOS behalten Sie den Kran im Auge. Kabellos von jedem Laptop oder Tablet mit Browser. Und die jährlich wiederkehrende Prüfung geht noch ein bisschen flotter. Betriebsdaten, Einstellungen, Service-Informationen. Mittels der modernen Oberfläche KranOS behalten Sie den Kran im Auge. Kabellos von jedem Laptop oder Tablet mit Browser. Und die jährlich wiederkehrende Prüfung geht noch ein bisschen flotter. Und sie erleich­tern die Arbeit: Das Verfahren von Kranen und Katzen ist im Handbetrieb mit wenig Kraftaufwand möglich. Zweischienenlaufkatzen der Bauart D auf Zweiträger­lauf­ kranen. Kragarmstützen\n",
      "\n",
      "--------------------------------------------------\n",
      "\n",
      "Query: Kann ich die KranOS mit dem Tablet nutzen?\n",
      "Answer: Kabellos von jedem Laptop oder Tablet mit Browser\n"
     ]
    }
   ],
   "source": [
    "# Example usage\n",
    "query = \"Kann ich die KranOS mit dem Tablet nutzen?\"\n",
    "result = search_and_answer(query)"
   ]
  },
  {
   "cell_type": "code",
   "execution_count": 79,
   "metadata": {},
   "outputs": [
    {
     "name": "stdout",
     "output_type": "stream",
     "text": [
      "--------------------------------------------------\n",
      "\n",
      "Searching for: Kann ich ABUS Hängebahnen mit 3000kg Traglast beladen?, retrieving top 10 results\n",
      "\n",
      "Retrieved texts:\n",
      "- Der komplette Traglastbereich des ABUS Hängebahnsystems bis $2000\\,{\\mathsf{k g}}$ wird durch sechs Profiltypen abgedeckt.\n",
      "- Das ABUS Hängebahnsystem\n",
      "- DIE BAUTEILE DES ABUS HÄNGEBAHNSYSTEMS\n",
      "- Die prinzipiellen Vorteile des ABUS Hängebahnsystems behalten ihren Wert auch für die Zeit nach der ersten Installation: Änderungen, Modernisierungen, Aufrü­ stungen und auch Wartungsarbeiten lassen sich ratio­ nell und kostengün­stig verwirklichen.\n",
      "- Bauhöhenvergleich bei Tragfähigkeit $10\\,\\mathfrak{t}\\times25000\\,\\mathfrak{m m}$ Spannweite\n",
      "- ABUS Hängebahnsysteme\n",
      "- Die Tragfähigkeit ist individuell wähl- und oft auch aus­ baubar: bis $2000\\,{\\mathsf{k g}}$ .\n",
      "- Das Hängebahnsystem gehört zu den erfolgreichen Ideen in der Hebe- und Fördertechnik. Es verbindet die Qualitäten eines stationären Hebezeugs mit der Mobilität eines Laufkrans – und das auf ökonomische Art und Weise.\n",
      "- Komplettlösungen aus dem Hause ABUS\n",
      "- Komplettlösungen aus dem Hause ABUS\n",
      "\n",
      "Ranked texts:\n",
      "- Der komplette Traglastbereich des ABUS Hängebahnsystems bis $2000\\,{\\mathsf{k g}}$ wird durch sechs Profiltypen abgedeckt.\n",
      "- ABUS Hängebahnsysteme\n",
      "- Das ABUS Hängebahnsystem\n",
      "- Die prinzipiellen Vorteile des ABUS Hängebahnsystems behalten ihren Wert auch für die Zeit nach der ersten Installation: Änderungen, Modernisierungen, Aufrü­ stungen und auch Wartungsarbeiten lassen sich ratio­ nell und kostengün­stig verwirklichen.\n",
      "- DIE BAUTEILE DES ABUS HÄNGEBAHNSYSTEMS\n",
      "\n",
      "Using context: Der komplette Traglastbereich des ABUS Hängebahnsystems bis $2000\\,{\\mathsf{k g}}$ wird durch sechs Profiltypen abgedeckt. ABUS Hängebahnsysteme Das ABUS Hängebahnsystem Die prinzipiellen Vorteile des ABUS Hängebahnsystems behalten ihren Wert auch für die Zeit nach der ersten Installation: Änderungen, Modernisierungen, Aufrü­ stungen und auch Wartungsarbeiten lassen sich ratio­ nell und kostengün­stig verwirklichen. DIE BAUTEILE DES ABUS HÄNGEBAHNSYSTEMS\n",
      "\n",
      "--------------------------------------------------\n",
      "\n",
      "Query: Kann ich ABUS Hängebahnen mit 3000kg Traglast beladen?\n",
      "Model is unsure about the answer. Returning context instead.\n"
     ]
    }
   ],
   "source": [
    "# Example usage\n",
    "query = \"Kann ich ABUS Hängebahnen mit 3000kg Traglast beladen?\"\n",
    "result = search_and_answer(query)"
   ]
  },
  {
   "cell_type": "code",
   "execution_count": 80,
   "metadata": {},
   "outputs": [
    {
     "name": "stdout",
     "output_type": "stream",
     "text": [
      "--------------------------------------------------\n",
      "\n",
      "Searching for: Wie erreiche ich den Kundendienst außerhalb der Geschäftszeiten?, retrieving top 10 results\n",
      "\n",
      "Retrieved texts:\n",
      "- Die Vielfalt an elektrischer Unterstützung, die ABUS Fahrantriebe und Hebezeuge zu bieten haben, bringen nicht nur Rationalität, sondern auch Sicherheit mit sich.\n",
      "- MODERNES, FUNKTIONALES ERSCHEINUNGSBILD, UND HOCHWERTIGES FARBKONZEPT.\n",
      "- sind Kranträger auf der gesamten Länge zugänglich und damit alle wichtigen Komponenten schnell und bequem erreichbar. Entscheidende Voraussetzungen für die zügige und sichere Durch­führung von Wartungsarbeiten.\n",
      "- Ihre Maschinen sind rund um die Uhr im Einsatz? Unser Service ist es auch.\n",
      "- Mechanische Bearbeitung des Seilzug-Gehäuse auf 4-Achsen Fräszentren\n",
      "- Einträgerkran mit Einschienenlaufkatze Bauart E\n",
      "- mittlere Hubhöhe:\n",
      "- Einträgerkran mit Seitenlaufkatze Bauart S\n",
      "- Bei besonderen architektonischen Situationen und baubedingten Vorgaben bieten aufgebockte Kranbrücken optimierte Einbaulösungen.\n",
      "- ZUSATZAUSRÜSTUNGEN\n",
      "\n",
      "Ranked texts:\n",
      "- sind Kranträger auf der gesamten Länge zugänglich und damit alle wichtigen Komponenten schnell und bequem erreichbar. Entscheidende Voraussetzungen für die zügige und sichere Durch­führung von Wartungsarbeiten.\n",
      "- Mechanische Bearbeitung des Seilzug-Gehäuse auf 4-Achsen Fräszentren\n",
      "- Die Vielfalt an elektrischer Unterstützung, die ABUS Fahrantriebe und Hebezeuge zu bieten haben, bringen nicht nur Rationalität, sondern auch Sicherheit mit sich.\n",
      "- Einträgerkran mit Einschienenlaufkatze Bauart E\n",
      "- Bei besonderen architektonischen Situationen und baubedingten Vorgaben bieten aufgebockte Kranbrücken optimierte Einbaulösungen.\n",
      "\n",
      "Using context: sind Kranträger auf der gesamten Länge zugänglich und damit alle wichtigen Komponenten schnell und bequem erreichbar. Entscheidende Voraussetzungen für die zügige und sichere Durch­führung von Wartungsarbeiten. Mechanische Bearbeitung des Seilzug-Gehäuse auf 4-Achsen Fräszentren Die Vielfalt an elektrischer Unterstützung, die ABUS Fahrantriebe und Hebezeuge zu bieten haben, bringen nicht nur Rationalität, sondern auch Sicherheit mit sich. Einträgerkran mit Einschienenlaufkatze Bauart E Bei besonderen architektonischen Situationen und baubedingten Vorgaben bieten aufgebockte Kranbrücken optimierte Einbaulösungen.\n",
      "\n",
      "--------------------------------------------------\n",
      "\n",
      "Query: Wie erreiche ich den Kundendienst außerhalb der Geschäftszeiten?\n",
      "Model is unsure about the answer. Returning context instead.\n"
     ]
    }
   ],
   "source": [
    "# Example usage\n",
    "query = \"Wie erreiche ich den Kundendienst außerhalb der Geschäftszeiten?\"\n",
    "result = search_and_answer(query)"
   ]
  },
  {
   "cell_type": "code",
   "execution_count": 81,
   "metadata": {},
   "outputs": [
    {
     "data": {
      "image/png": "[encoded data removed]",
      "text/plain": [
       "<Figure size 1200x600 with 1 Axes>"
      ]
     },
     "metadata": {},
     "output_type": "display_data"
    },
    {
     "data": {
      "image/png": "[encoded data removed]",
      "text/plain": [
       "<Figure size 1200x600 with 1 Axes>"
      ]
     },
     "metadata": {},
     "output_type": "display_data"
    }
   ],
   "source": [
    "import numpy as np\n",
    "import matplotlib.pyplot as plt\n",
    "\n",
    "def histogram_plot(original_texts, extracted_texts):\n",
    "    \"\"\"Plot separate histograms for original and extracted text lengths using the same scale and y-axis range.\"\"\"\n",
    "    original_lengths = [len(text) for text in original_texts]\n",
    "    extracted_lengths = [len(text) for text in extracted_texts]\n",
    "    \n",
    "    max_length = max(extracted_lengths) if extracted_lengths else 1\n",
    "    bins = np.linspace(0, max_length, 30)\n",
    "    max_freq = 350\n",
    "    \n",
    "    plt.figure(figsize=(12, 6))\n",
    "    plt.hist(original_lengths, bins=bins, alpha=0.7, color='b')\n",
    "    plt.xlabel(\"Text Length\")\n",
    "    plt.ylabel(\"Frequency\")\n",
    "    plt.ylim(0, max_freq)\n",
    "    plt.title(\"Histogram of Original Text Lengths\")\n",
    "    plt.grid(axis=\"y\", linestyle=\"--\", alpha=0.7)\n",
    "    plt.show()\n",
    "    \n",
    "    plt.figure(figsize=(12, 6))\n",
    "    plt.hist(extracted_lengths, bins=bins, alpha=0.7, color='r')\n",
    "    plt.xlabel(\"Text Length\")\n",
    "    plt.ylabel(\"Frequency\")\n",
    "    plt.ylim(0, max_freq)\n",
    "    plt.title(\"Histogram of Extracted Text Lengths\")\n",
    "    plt.grid(axis=\"y\", linestyle=\"--\", alpha=0.7)\n",
    "    plt.show()\n",
    "\n",
    "# Generate separate histograms with the same scale and y-axis limit\n",
    "histogram_plot([item['text'] for item in content_list if item['type'] == 'text'], texts)"
   ]
  }
 ],
 "metadata": {
  "kernelspec": {
   "display_name": ".venv",
   "language": "python",
   "name": "python3"
  },
  "language_info": {
   "codemirror_mode": {
    "name": "ipython",
    "version": 3
   },
   "file_extension": ".py",
   "mimetype": "text/x-python",
   "name": "python",
   "nbconvert_exporter": "python",
   "pygments_lexer": "ipython3",
   "version": "3.12.5"
  }
 },
 "nbformat": 4,
 "nbformat_minor": 2
}
